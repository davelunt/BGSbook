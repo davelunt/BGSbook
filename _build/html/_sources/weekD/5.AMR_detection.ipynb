{
 "cells": [
  {
   "attachments": {},
   "cell_type": "markdown",
   "metadata": {},
   "source": [
    "# Genome annotation and AMR detection"
   ]
  },
  {
   "attachments": {},
   "cell_type": "markdown",
   "metadata": {},
   "source": [
    "You now have an assembled E.coli genome and are in a position to use bioinformatics analyses to determine the catalog of genes present in the genome and predict antimicrobial resitance (AMR) genes. Understanding AMR is a key challenge in public health and sequencing may be a useful tool."
   ]
  },
  {
   "attachments": {},
   "cell_type": "markdown",
   "metadata": {},
   "source": [
    "At this stage in your research project you are going to approach this work semi-independently. This workbook will guide you but you will need to read the associated papers, and the program's help documentation for each analysis."
   ]
  },
  {
   "attachments": {},
   "cell_type": "markdown",
   "metadata": {},
   "source": [
    "## 1. Genome annotation"
   ]
  },
  {
   "attachments": {},
   "cell_type": "markdown",
   "metadata": {},
   "source": [
    "At the moment you have a fasta file which was the output of the genome assembly program Flye. This is the E. coli genome, and some other sequences. Make sure that you know which this file is, and have an analysis of what sequences are in this file, their lengths and any other information you have gathered."
   ]
  },
  {
   "attachments": {},
   "cell_type": "markdown",
   "metadata": {},
   "source": [
    "Genome annotation moves from a bare fasta seuqence to a set of rich information about the sequence."
   ]
  },
  {
   "attachments": {},
   "cell_type": "markdown",
   "metadata": {},
   "source": [
    "**Question: what information do you want to know about the sequence?** \n",
    "\n",
    "What information can be added to the bare `ACGT` to make it more biologically relevant, and to reveal useful information? This is a general question, not one requiring specialist genomics knowledge. Discuss among yourselves and make notes."
   ]
  },
  {
   "attachments": {},
   "cell_type": "markdown",
   "metadata": {},
   "source": [
    "REFERENCES"
   ]
  },
  {
   "attachments": {},
   "cell_type": "markdown",
   "metadata": {},
   "source": [
    "1. Stein L. Genome annotation: from sequence to biology. Nat Rev Genet. 2001;2: 493–503. doi:10.1038/35080529\n",
    "\n",
    "2. Yandell M, Ence D. A beginner’s guide to eukaryotic genome annotation. Nat Rev Genet. 2012;13: 329–342. doi:10.1038/nrg3174"
   ]
  },
  {
   "attachments": {},
   "cell_type": "markdown",
   "metadata": {},
   "source": [
    "The approaches to annotating eukaryotic genomes and prokaryotic genomes are quite different. Why might this be?"
   ]
  },
  {
   "attachments": {},
   "cell_type": "markdown",
   "metadata": {},
   "source": [
    "You will see reference to many bacterial genome annotation software. Examples include:\n",
    "- [Prokka](https://github.com/tseemann/prokka)\n",
    "- [DFAST](https://academic.oup.com/bioinformatics/article/34/6/1037/4587587)\n",
    "- [Prodigal](https://github.com/hyattpd/prodigal/wiki)\n",
    "- [NCBI annotation pipeline](https://www.ncbi.nlm.nih.gov/genome/annotation_prok/)\n",
    "- [Bakta](https://github.com/oschwengers/bakta)\n",
    "- [MicrobeAnnotator](https://github.com/cruizperez/MicrobeAnnotator)\n"
   ]
  },
  {
   "attachments": {},
   "cell_type": "markdown",
   "metadata": {},
   "source": [
    "<HR>\n",
    "\n",
    "### Discussion: how to annotate a genome sequence\n",
    "\n",
    "<HR>"
   ]
  },
  {
   "attachments": {},
   "cell_type": "markdown",
   "metadata": {},
   "source": [
    "### (optional) Prepare the genome file\n",
    "\n",
    "You have 5 sequences in genome assembly of strain B and 6 sequences in the genome assembly of strain C. Do you want to analyse these together or as separate sequences?"
   ]
  },
  {
   "attachments": {},
   "cell_type": "markdown",
   "metadata": {},
   "source": [
    "There is not a 'right' answer here. Some programs will be happy with everything together, others less so. Some will be happy but the annotation results will refer to everything together and might be less easy to interpret. Others might make much more sense when they are describing all the sequences rather than one at a time. My point here is to make you think about what you are submittign and to critically assess the outputs in that light. If you don't like it you can do it the other way."
   ]
  },
  {
   "attachments": {},
   "cell_type": "markdown",
   "metadata": {},
   "source": [
    "Many of you have already had a go at splitting fasta into individual sequences. There are many ways to do this, Google it. My personal favourite though is using the `seqkit split2` command, read the [documentation](https://bioinf.shenwei.me/seqkit/usage/#split2) to find the right syntax."
   ]
  },
  {
   "attachments": {},
   "cell_type": "markdown",
   "metadata": {},
   "source": [
    "### 1.1 BAKTA"
   ]
  },
  {
   "attachments": {},
   "cell_type": "markdown",
   "metadata": {},
   "source": [
    "Bakta is a modern and powerful approach to bacterial genome annotation. Explore the Bakta annotation server, read the paper, github website and understand what it is doing and why."
   ]
  },
  {
   "attachments": {},
   "cell_type": "markdown",
   "metadata": {},
   "source": [
    "You can annotate your genome at the [Bakta server](https://bakta.computational.bio/). This might take an hour or more, you could however begin competency 1 (below)."
   ]
  },
  {
   "attachments": {},
   "cell_type": "markdown",
   "metadata": {},
   "source": [
    "### 1.2 DFAST"
   ]
  },
  {
   "attachments": {},
   "cell_type": "markdown",
   "metadata": {},
   "source": [
    "Again, please learn about DFAST as an approach to genome annotation. The [DFAST Annotation Server](https://dfast.ddbj.nig.ac.jp/) is available for your job submission"
   ]
  },
  {
   "attachments": {},
   "cell_type": "markdown",
   "metadata": {},
   "source": [
    "### 1.3 Genome annotation outputs"
   ]
  },
  {
   "attachments": {},
   "cell_type": "markdown",
   "metadata": {},
   "source": [
    "Each server will provide you with output files. Take the time to retrieve information about these output file types and what information they contain."
   ]
  },
  {
   "attachments": {},
   "cell_type": "markdown",
   "metadata": {},
   "source": [
    "At the very least you should back up the output files for later use."
   ]
  },
  {
   "attachments": {},
   "cell_type": "markdown",
   "metadata": {},
   "source": [
    "One interesting thing you could do next is to load these files into a genome browser. A good one is [IGV](https://igv.org/app/)"
   ]
  },
  {
   "attachments": {},
   "cell_type": "markdown",
   "metadata": {},
   "source": [
    "<HR>"
   ]
  },
  {
   "attachments": {},
   "cell_type": "markdown",
   "metadata": {},
   "source": [
    "## Competency 1 week D"
   ]
  },
  {
   "attachments": {},
   "cell_type": "markdown",
   "metadata": {},
   "source": [
    "Pick one genome annotation software package, it doesn't have to be the one you have used, though there are advantages to this for writing your manuscript and understanding your data"
   ]
  },
  {
   "attachments": {},
   "cell_type": "markdown",
   "metadata": {},
   "source": [
    "**Describe briefly how a named software attempts to annotate components of the bacterial genome.** "
   ]
  },
  {
   "attachments": {},
   "cell_type": "markdown",
   "metadata": {},
   "source": [
    "\"Briefly\" means less than a page. Most people should choose to write **about half a page**, more is not better and this is not an essay but a brief explanation of an approach. If you absolutely need a diagram that is OK too."
   ]
  },
  {
   "attachments": {},
   "cell_type": "markdown",
   "metadata": {},
   "source": [
    "Do not talk about eukaryotic genome analysis. Do not talk about it being fast, low memory, or easy to install, this is not a review of the software. Instead describe the general approach by which it can annotate (write a biological description) of a section of the genome assembly fasta."
   ]
  },
  {
   "attachments": {},
   "cell_type": "markdown",
   "metadata": {},
   "source": [
    "<HR>\n",
    "\n",
    "BREAK HERE. Please wait before progressing"
   ]
  },
  {
   "attachments": {},
   "cell_type": "markdown",
   "metadata": {},
   "source": [
    "<HR>"
   ]
  },
  {
   "attachments": {},
   "cell_type": "markdown",
   "metadata": {},
   "source": [
    "## 2. AMR analysis"
   ]
  },
  {
   "attachments": {},
   "cell_type": "markdown",
   "metadata": {},
   "source": [
    "We are going to analyse for anti-microbial resistance genes with 2 software workflows:\n",
    "1. abritAMR\n",
    "2. CARD"
   ]
  },
  {
   "attachments": {},
   "cell_type": "markdown",
   "metadata": {},
   "source": [
    "### 2.1 abritAMR (optional, we probably won't use this today)"
   ]
  },
  {
   "attachments": {},
   "cell_type": "markdown",
   "metadata": {},
   "source": [
    "abritAMR is a bioinformatics workflow that uses several other tools to create an analysis and report on AMR genes. It is designed for use in healthcare situations.\n",
    "\n",
    "Sherry et al. An ISO-certified genomics workflow for identification and surveillance of antimicrobial resistance. Nat Commun. 2023;14: 60. doi:[10.1038/s41467-022-35713-4](https://dx.doi.org/10.1038/s41467-022-35713-4)\n",
    "\n",
    "The code and help documentation are available: \n",
    "\n",
    "https://github.com/MDU-PHL/abritamr\n",
    "\n"
   ]
  },
  {
   "attachments": {},
   "cell_type": "markdown",
   "metadata": {},
   "source": [
    "### 2.2 CARD-RGI"
   ]
  },
  {
   "attachments": {},
   "cell_type": "markdown",
   "metadata": {},
   "source": [
    "The Comprehensive Antibiotic Resistance Database (CARD) is a bioinformatics database focussed on resistance genes."
   ]
  },
  {
   "attachments": {},
   "cell_type": "markdown",
   "metadata": {},
   "source": [
    "We are going to try to analyse our data using the **Resistance Gene Identifier** web server.\n",
    "\n",
    "https://card.mcmaster.ca/analyze/rgi"
   ]
  },
  {
   "attachments": {},
   "cell_type": "markdown",
   "metadata": {},
   "source": [
    "There is a 20 Mb file size limit, how big are your assembly files? Are you going to analyse all 5-6 sequences together or separately?"
   ]
  },
  {
   "attachments": {},
   "cell_type": "markdown",
   "metadata": {},
   "source": [
    "Do you understand the analyses carried out by RGI? Can you describe the approach that it takes? If not then searching and reading will be required."
   ]
  },
  {
   "attachments": {},
   "cell_type": "markdown",
   "metadata": {},
   "source": [
    "What output files have been produced and what do they contain?"
   ]
  },
  {
   "attachments": {},
   "cell_type": "markdown",
   "metadata": {},
   "source": [
    "<HR>"
   ]
  },
  {
   "attachments": {},
   "cell_type": "markdown",
   "metadata": {},
   "source": [
    "## Competency 2 Week D"
   ]
  },
  {
   "attachments": {},
   "cell_type": "markdown",
   "metadata": {},
   "source": [
    "**Produce a simple table of AMR genes present in your strains**"
   ]
  },
  {
   "attachments": {},
   "cell_type": "markdown",
   "metadata": {},
   "source": [
    "Although something similar may have been produced by your analyses you will need to simplify and explain it. Remove information not pertinent to your experiment, write a legend. Perhaps write 3-4 sentences on the methods for producing the table. It is an exercise to demonstrate your generation of results, but also to familiarise you with different types of AMR."
   ]
  },
  {
   "attachments": {},
   "cell_type": "markdown",
   "metadata": {},
   "source": [
    "<HR>"
   ]
  },
  {
   "attachments": {},
   "cell_type": "markdown",
   "metadata": {},
   "source": [
    "Have you done a literature search yet to find out about the action of antibiotics, and AMR genes held by bacteria to defeat them? This understanding will be a key aspect of interpreting your data and writing it up."
   ]
  }
 ],
 "metadata": {
  "language_info": {
   "name": "python"
  },
  "orig_nbformat": 4
 },
 "nbformat": 4,
 "nbformat_minor": 2
}
