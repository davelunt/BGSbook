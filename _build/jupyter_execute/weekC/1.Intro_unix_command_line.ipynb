{
 "cells": [
  {
   "attachments": {},
   "cell_type": "markdown",
   "metadata": {},
   "source": [
    "# Introduction to the unix command line\n",
    "In this practical class you will be introduced to Bioinformatics, the computational study of large scale DNA or amino acid data. \n",
    "\n",
    "Bioinformatics is a truly central discipline in all of biology, scientists with bioinformatics skills are highly sought after and the employment opportunities are superb. Our learning goals are that you will have the skills to begin a bioinformatics investigation, and these same skills will also make you excellent at handling big data more generally.\n",
    "\n",
    "**DON’T PANIC! YOU DO NOT NEED COMPUTATIONAL SKILLS TO CARRY OUT THIS ASSESSMENT. EVERYTHING YOU NEED TO KNOW YOU CAN LEARN IN THIS CLASS**\n",
    "\n",
    "It is essential however that you engage with the exercises, reading them carefully, trying for yourself, and asking questions of your lab partners and the demonstrators."
   ]
  },
  {
   "attachments": {},
   "cell_type": "markdown",
   "metadata": {},
   "source": [
    "**TIP**\n",
    "\n",
    "If I had to pick one thing that makes the biggest difference in how easily students learn this it would be **re-typing and trying the commands for themselves in this notebook** not just reading how to do it."
   ]
  },
  {
   "cell_type": "markdown",
   "metadata": {},
   "source": [
    "## Learning Outcomes\n",
    "At the end of this class you should:\n",
    "- **Understand the utility** of the command line\n",
    "- Be able to **navigate** files and directories from the command line\n",
    "- Perform **grep searches** on very large files\n",
    "- Be able to **sort**, filter and manipulate data sets"
   ]
  },
  {
   "attachments": {},
   "cell_type": "markdown",
   "metadata": {},
   "source": [
    "## Competency Assessments\n",
    "\n",
    "The competencies you must demonstrate highlighted in this document. Read the instructions for each, then type out and run the commands to give the appropriate output. You will be taught how to do this before the competency, it is just a demonstration that you have the skills. You can do them as many times as you wish until you have it to your satisfaction"
   ]
  },
  {
   "cell_type": "markdown",
   "metadata": {},
   "source": [
    "## Table of Contents"
   ]
  },
  {
   "attachments": {},
   "cell_type": "markdown",
   "metadata": {},
   "source": [
    "1. Introduction to the command line and Jupyter notebooks\n",
    "2. Navigating the file system\n",
    "3. Inspecting file contents\n",
    "    - Competency part 1 viewing files\n",
    "    - Competency part 2 grep searching\n",
    "4. Wildcards\n",
    "5. Search, replace, and write output to a new file\n",
    "6. Sorting and filtering lists\n",
    "    - Competency part 3 cancer associated gene lists\n",
    "7. Uploading your competency evidence to Canvas\n",
    "\n",
    "<HR>"
   ]
  },
  {
   "attachments": {},
   "cell_type": "markdown",
   "metadata": {},
   "source": [
    "# 1. Introduction to the command line and Jupyter notebooks\n",
    "Below we will give only a very simple overview. The best way to learn the command line is to Google search for instructions and then try it yourself, experimenting as much as you can. We have also given links to other teaching resources at the end.\n",
    "\n",
    "Here we have embedded the unix command line into a Jupyter notebook so that you have the manual and the exercises together. A normal terminal would be a seperate window (you used one for the git clone command), but otherwise it is the same. In the instructions in this notebook we denote commands typed at the terminal with a `$` sign, whereas the output, the info returned by the terminal, has no dollar sign.\n",
    "```\n",
    "$ a typed command\n",
    "output output output\n",
    "```\n",
    "\n",
    "The *actual* terminal sections are the grey cells (boxes) prefixed by `[ ]:`  \n",
    "Here is one:"
   ]
  },
  {
   "cell_type": "code",
   "execution_count": null,
   "metadata": {},
   "outputs": [],
   "source": []
  },
  {
   "cell_type": "markdown",
   "metadata": {},
   "source": [
    "You can run commands in a terminal cell by clicking in it, typing a command, and then Shift-Enter to run the command. Else you click the triangular run button in the menu bar. Try it below, the 'hello world' echo command has been entered for you."
   ]
  },
  {
   "cell_type": "code",
   "execution_count": null,
   "metadata": {
    "vscode": {
     "languageId": "shellscript"
    }
   },
   "outputs": [],
   "source": [
    "echo 'Hello World!'"
   ]
  },
  {
   "attachments": {},
   "cell_type": "markdown",
   "metadata": {},
   "source": [
    "Clicking in the box and pressing Shift-Enter will display the output `Hello World!` direcly below the cell. We'll introduce the `echo` command later but you can probably already guess what it does."
   ]
  },
  {
   "attachments": {},
   "cell_type": "markdown",
   "metadata": {},
   "source": [
    "# 2 Navigating the file system\n",
    "\n",
    "The first thing to do is to learn the basics of moving between places on your computer, checking where you are, checking what files are present and having a quick look at them. \n",
    "\n",
    "Some of the terminology is perhaps slightly new (‘directories’ rather than ‘folders’) but using the right words will mean you are speaking the same language as everyone else and make your life easier when Googling for solutions (yes Googling is encouraged, it is NOT cheating).\n",
    "\n",
    "**THIS IS IMPORTANT --> As the navigation commands are introduced below try them on your own system**"
   ]
  },
  {
   "cell_type": "markdown",
   "metadata": {},
   "source": [
    "## 2.1 Checking where you are (`pwd`), changing directories (`cd`) and listing contents (`ls`)"
   ]
  },
  {
   "cell_type": "markdown",
   "metadata": {},
   "source": [
    "### 2.1.1 Where am I? `pwd`"
   ]
  },
  {
   "attachments": {},
   "cell_type": "markdown",
   "metadata": {},
   "source": [
    "At the command line you need to know “where you are” i.e. which directory (folder) you have open and are working in. Question: If you issue the command to ‘list all files’ which files will be listed? Answer: Those in the directory where you are currently working, called the **working directory**. The command to find out where you are is `pwd` short for ‘print working directory’. NB: ‘print’ when working at the command line means ‘display on the screen’ rather than ‘write this to a piece of paper’. \n",
    "\n",
    "Type the command to print working directory (`pwd`) below, and hit Shift-Enter to run the command."
   ]
  },
  {
   "cell_type": "code",
   "execution_count": null,
   "metadata": {},
   "outputs": [],
   "source": []
  },
  {
   "attachments": {},
   "cell_type": "markdown",
   "metadata": {},
   "source": [
    "You should see something like this:\n",
    "\n",
    "```\n",
    "$ pwd\n",
    "/home/bs/username/BGS\n",
    "```"
   ]
  },
  {
   "attachments": {},
   "cell_type": "markdown",
   "metadata": {},
   "source": [
    "**Tip:** if you want to try something and there isn't an empty terminal cell, use the menu bar + to Insert Cell\n",
    "\n",
    "**Try inserting a cell below and check your working directory again**"
   ]
  },
  {
   "cell_type": "markdown",
   "metadata": {},
   "source": [
    "It would be useful now to know what folders and files are present in this location"
   ]
  },
  {
   "cell_type": "markdown",
   "metadata": {},
   "source": [
    "### 2.1.2 Listing the contents of a directory with `ls`\n",
    "\n",
    "A very common thing you will want to do is to **display the contents of a directory**, i.e. list all the files. \n",
    "\n",
    "You can list the files (and directories) in your working directory using the `ls` command. Try `ls` now"
   ]
  },
  {
   "cell_type": "code",
   "execution_count": null,
   "metadata": {},
   "outputs": [],
   "source": []
  },
  {
   "attachments": {},
   "cell_type": "markdown",
   "metadata": {},
   "source": [
    "You will see the files and directories in your current folder displayed by `ls`. The jupyter notebook you are now reading will have the extension `.ipnb`, there are 4 Jupyter notebooks in total. There are also README.md and LICENCE files which may be ignored (though you will soon learn how to examine them if you wish). There will also be a directories called **/data** and **/images** that may be displayed in a different colour to show that it is a directory not a file."
   ]
  },
  {
   "cell_type": "markdown",
   "metadata": {},
   "source": [
    "### 2.1.3 Changing directories with cd"
   ]
  },
  {
   "attachments": {},
   "cell_type": "markdown",
   "metadata": {},
   "source": [
    "But maybe this isn’t where you want to be, maybe you need to have a look at your new data, in which case you need to `‘change directory’` and the command for that is `cd`\n",
    "\n",
    "```\n",
    "$ cd data\n",
    "$ cd my_sequences\n",
    "$ pwd\n",
    "\n",
    "/home/bs/username/BGS/data/my_sequences\n",
    "```"
   ]
  },
  {
   "attachments": {},
   "cell_type": "markdown",
   "metadata": {},
   "source": [
    "<HR>\n",
    "\n",
    "**Explanation:** Spaces in file and directory names cause difficulties as spaces are treated as the end of a file name. When looking for ‘my sequences' it complains that it can’t find ‘my’. \n",
    "```\n",
    "$ cd my sequences\n",
    "-bash: cd: my: No such file or directory\n",
    "```\n",
    "\n",
    "Although this can be got around by using quotes ‘`my file`’ it is better to name files replacing spaces with underscores (e.g. `my_file`), hyphens (e.g. `my-file`), or concatenating the words (e.g. `myfile`).\n",
    "<HR>"
   ]
  },
  {
   "attachments": {},
   "cell_type": "markdown",
   "metadata": {},
   "source": [
    "**Try navigating for yourself down to the `my_sequences` directory as outlined above.** Remember you can add extra cells, and use `pwd` and `ls` to help you"
   ]
  },
  {
   "cell_type": "code",
   "execution_count": null,
   "metadata": {},
   "outputs": [],
   "source": []
  },
  {
   "cell_type": "code",
   "execution_count": null,
   "metadata": {},
   "outputs": [],
   "source": []
  },
  {
   "attachments": {},
   "cell_type": "markdown",
   "metadata": {},
   "source": [
    "You can see that the `/` symbol denotes levels of directories, so that the ‘my_sequences’ directory is contained within the ‘data’ directory which is within the user's 'home' directory, and ultimately in the system’s ‘home’ directory. \n",
    "\n",
    "These **file paths** can sometimes be long but they are always explicit, which is a very good thing for reproducibility. There is no excuse for failing to remember where the data was stored for your analysis, here it is written out, and in the real world you will want to record this as part of your experiment.\n",
    "\n",
    "#### up one level with a double dot\n",
    "\n",
    "You can go up one level (to 'data') by using double dots (ensure there is always a space between the `cd` command and the directory you wish to go to).\n",
    "```\n",
    "$ cd ..\n",
    "$ pwd\n",
    "\n",
    "/home/bs/userename/BGS/data\n",
    "```\n",
    "\n",
    "**Try it for yourself** (remember to always try new commands for yourself, it is an important part of your learning, don't wait for my typed reminders)"
   ]
  },
  {
   "cell_type": "code",
   "execution_count": null,
   "metadata": {},
   "outputs": [],
   "source": []
  },
  {
   "cell_type": "code",
   "execution_count": null,
   "metadata": {},
   "outputs": [],
   "source": []
  },
  {
   "attachments": {},
   "cell_type": "markdown",
   "metadata": {},
   "source": [
    "#### home directory"
   ]
  },
  {
   "attachments": {},
   "cell_type": "markdown",
   "metadata": {},
   "source": [
    "What happens if you use the `cd` command without telling the system where you would like to change directories to?  \n",
    "Try it. How can you find out which directory you are now in?"
   ]
  },
  {
   "cell_type": "code",
   "execution_count": null,
   "metadata": {},
   "outputs": [],
   "source": []
  },
  {
   "attachments": {},
   "cell_type": "markdown",
   "metadata": {},
   "source": [
    "```\n",
    "$ cd \n",
    "$ pwd \n",
    "/home/bs/username\n",
    "```\n",
    "\n",
    "Using `cd` command on its own returns you to your **user’s home directory**, in this case `/username` from wherever you are. NB it is **your** home directory, in my case called davelunt, and its nested within the directory called home by the computer where all users' directories are kept. **your home directory** is an important concept, this other home folder is the only difficult part, and can be ignored for the rest of today. In the example below *username* means your username, whatever it is.\n",
    "\n",
    "The tilde symbol (`~`) is shorthand for your home directory so `username/BGS` and `~/BGS` refer to the same directory, which saves a little typing."
   ]
  },
  {
   "attachments": {},
   "cell_type": "markdown",
   "metadata": {},
   "source": [
    "#### previous directory with a dash\n",
    "\n",
    "Another very useful shortcut is `cd -` (dash) which takes you to the previous directory that you were in. This is really useful when you need to swap between directories that are separated by several levels or that have long names."
   ]
  },
  {
   "attachments": {},
   "cell_type": "markdown",
   "metadata": {},
   "source": [
    "```\n",
    "$ cd ~/BGS/data/my_sequences\n",
    "$ pwd\n",
    "/home/bs/username/BGS/data/my_sequences\n",
    "$ cd\n",
    "$ pwd\n",
    "/home/bs/username\n",
    "$ cd -\n",
    "$ pwd\n",
    "/home/bs/username/BGS/data/my_sequences\n",
    "$ cd -\n",
    "$ pwd\n",
    "/home/bs/username\n",
    "```\n",
    "\n",
    "Make sure that you are actually typing this out for yourself rather than just reading along. Work through the example above. This **active learning** will really help it to stick in memory, and come back when you need it, a bit like developing muscle memory."
   ]
  },
  {
   "cell_type": "markdown",
   "metadata": {},
   "source": [
    "### 2.1.4 tab completion saves time and errors"
   ]
  },
  {
   "attachments": {},
   "cell_type": "markdown",
   "metadata": {},
   "source": [
    "You are probably slightly annoyed now that you have to type in all these directory names, which are long and complex. If you make one typo it will result in an error. Real bioinformaticians make use of the tab key a lot. tab will suggest completions of your file path.\n",
    "\n",
    "If I am in the home directory and I type `$ cd BGS/data/m<tab>` it will autocomplete to `$ cd BGS/data/my_sequences`\n",
    "\n",
    "Because of the way this Jupyter notebook is set up it may instead give you a list of options, you can navigate using the arrow keys, and hit RETURN when you have the right option.\n",
    "This saves a LOT of typing and prevents errors. Insert a cell below and try it now. "
   ]
  },
  {
   "cell_type": "markdown",
   "metadata": {},
   "source": [
    "### 2.1.5 Chaining commands together with a semicolon\n",
    "Above we were issuing commands one at a time; first `cd` then `pwd`. To chain commands together on the same line separate them with a semicolon ie `cd;pwd`\n",
    "\n",
    "Try the exercise from the `cd -` section above again, but now using semicolons. You should only need 4 commands not 8.\n",
    "\n",
    "Are you tab completing the addresses?"
   ]
  },
  {
   "cell_type": "code",
   "execution_count": null,
   "metadata": {},
   "outputs": [],
   "source": []
  },
  {
   "cell_type": "markdown",
   "metadata": {},
   "source": [
    "## Quiz 1: Ways to return home\n",
    "There are 5 ways that you should now know to return to your home directory. Most people only remember 2 or 3, what can you do? Please work with someone nearby, tell a demonstrator, list them below, and we'll see who are the champions.\n"
   ]
  },
  {
   "attachments": {},
   "cell_type": "markdown",
   "metadata": {},
   "source": [
    "### 2.1.6 Summary\n",
    "```\n",
    "pwd\tprint working directory, show where you are\n",
    "ls\tlist, show all the files in your current directory\n",
    "cd\tchange directory, move to another location\n",
    ";\tsemicolons can chain together commands on one line\n",
    "```\n",
    "\n",
    "<HR>\n",
    "\n",
    "PAUSE HERE AND CHECK BEFORE GOING FURTHER\n",
    "\n",
    "<HR>"
   ]
  },
  {
   "cell_type": "markdown",
   "metadata": {},
   "source": [
    "# 3 Inspecting file contents, and searching within text files"
   ]
  },
  {
   "cell_type": "markdown",
   "metadata": {},
   "source": [
    "## 3.1 Inspecting files"
   ]
  },
  {
   "attachments": {},
   "cell_type": "markdown",
   "metadata": {},
   "source": [
    "Much of bioinformatics is the inspection and retrieval of information from text files. This data is the source of all subsequent analyses and we need to make sure it is the right data in the right format.\n",
    "\n",
    "If we  want to inspect a file we can display its contents using several unix programs:\n",
    "```\n",
    "cat  \tto print the whole file to the screen\n",
    "head \tto print the first few lines of the file on screen\n",
    "tail \tto print the last few lines of the file on screen\n",
    "```\n",
    "One of the problems with DNA sequence files is that they can be large - several hundred megabytes to a few gigabytes is not uncommon. Viewing these files can be difficult, as the files need to be loaded into memory, and can therefore take a great deal of time for the text editor to read from the disk. The `head` and `tail` commands are very efficient for viewing large files such as these. \n",
    "\n",
    "Remember Googling things is encouraged, it is a great way to learn bioinformatics! Google `unix command head` and `tail` to learn more about them if you wish. \n",
    "\n",
    "Both `head` and `tail` display 10 lines by defualt, but they allow you to specify the number of lines to display, so `head -20` would display the first 20 lines and `tail -5` the last 5 lines.\n",
    "\n",
    "Remembering tab completion navigate to the directory `/data/my_sequences`. Tip; when navigating use `ls` to see what is available."
   ]
  },
  {
   "attachments": {},
   "cell_type": "markdown",
   "metadata": {},
   "source": [
    "Some of these files e.g. `C.09.F.fasta` are quite large (~30Mb), while the others are smaller. Only one of the commands above is inappropriate for large files all the others will be useful. If you have a problem don't panic, ask a demonstrator.\n",
    "\n",
    "#### big files\n",
    "\n",
    "Which commands should you use for big or small files and why? The problem is that if you command a really big file to display to the screen (eg `cat mybigfile.fasta`) then it will just keep scrolling data in an unhelpful way. **Tip** `control-z` can make it stop. If you want to try it on `C.09.F.fasta` go ahead, you can't do any damage. Ask a demonstrator to help you clean up afterwards\n",
    "\n",
    "If unsure about the size of a file `head` is a good way to have a quick look at it. If you actually want to know how big a file is you can display this with a version of the `ls` command `ls -lh` Try it.\n",
    "\n",
    "**All the commands above will be very useful for basic bioinformatics work, they are key skills**"
   ]
  },
  {
   "cell_type": "code",
   "execution_count": null,
   "metadata": {},
   "outputs": [],
   "source": []
  },
  {
   "attachments": {},
   "cell_type": "markdown",
   "metadata": {},
   "source": [
    "----\n",
    "## Competency part A - viewing files\n",
    "\n",
    "Navigate to the `data/headers` directory.\n",
    "\n",
    "How big are the files?"
   ]
  },
  {
   "cell_type": "code",
   "execution_count": null,
   "metadata": {},
   "outputs": [],
   "source": []
  },
  {
   "attachments": {},
   "cell_type": "markdown",
   "metadata": {},
   "source": [
    "In the 3 cells below use each of the following commands to view the contents of the file `display-test.fas`.\n",
    "1. cat\n",
    "2. head\n",
    "3. tail "
   ]
  },
  {
   "cell_type": "code",
   "execution_count": null,
   "metadata": {},
   "outputs": [],
   "source": []
  },
  {
   "cell_type": "code",
   "execution_count": null,
   "metadata": {},
   "outputs": [],
   "source": []
  },
  {
   "cell_type": "code",
   "execution_count": null,
   "metadata": {},
   "outputs": [],
   "source": []
  },
  {
   "attachments": {},
   "cell_type": "markdown",
   "metadata": {},
   "source": [
    "**Bonus** can you display the last 15 lines of `display-test.fas`? (optional)"
   ]
  },
  {
   "cell_type": "code",
   "execution_count": null,
   "metadata": {},
   "outputs": [],
   "source": []
  },
  {
   "attachments": {},
   "cell_type": "markdown",
   "metadata": {},
   "source": [
    "End of competency"
   ]
  },
  {
   "attachments": {},
   "cell_type": "markdown",
   "metadata": {},
   "source": [
    "<HR>\n",
    "PAUSE HERE AND CHECK BEFORE GOING FURTHER\n",
    "<HR>"
   ]
  },
  {
   "attachments": {},
   "cell_type": "markdown",
   "metadata": {},
   "source": [
    "## 3.2 Searching within files `grep`"
   ]
  },
  {
   "attachments": {},
   "cell_type": "markdown",
   "metadata": {},
   "source": [
    "Searching within very large files however can also be problematic, especially using the standard 'find' functions in a text editor, which aren’t optimised for performing searches across very large files. For this reason various tools have been created that allow users to search within large files from the command line, and are highly optimised for their function. One of the most useful utilities for searching within a file is `grep` (global regular expression parser).\n",
    "\n",
    "`grep` is very simple to use. At the command line you will need to type the word `grep`, followed by the text you are searching for, followed by where (the filename) to look for it. For example, to search for the word Fungi in our `18S_seqs.fas` file we do the following:\n",
    "```\n",
    "$ cd ~/BGS/data/my_sequences/\n",
    "$ grep 'Fungi' 18S_seqs.fas\n",
    ">AY642706_10 1401 Eukarya/Fungi\n",
    "```"
   ]
  },
  {
   "attachments": {},
   "cell_type": "markdown",
   "metadata": {},
   "source": [
    "This returns the text `>AY642706_10 1401 Eukarya/Fungi` which is the single line that contains the word Fungi. This is the output of `grep`, the line on which the search phrase is found.\n",
    "\n",
    "Make sure that you are trying this for yourself, by inserting cells and giving the command\n",
    "\n",
    "We can confirm that there is only one instance by using the **count flag** (`-c`) with `grep` as follows:\n",
    "```\n",
    "$ grep -c 'Fungi' 18S_seqs.fas\n",
    "1\n",
    "```"
   ]
  },
  {
   "attachments": {},
   "cell_type": "markdown",
   "metadata": {},
   "source": [
    "#### Flags\n",
    "\n",
    "Flags are useful things, they allow the default behaviour of a command to be refined. \n",
    "You have already used a flag (`-lh`) with the `ls` command to make it show you files sizes. Using flags to set parameters and modify the default settings is very comman in bioinformatics."
   ]
  },
  {
   "cell_type": "markdown",
   "metadata": {},
   "source": [
    "### 3.2.1 How many sequences do I have?\n",
    "A very common question is to ask is ‘how many DNA sequence records are in this enormous fasta file?’ \n",
    "\n",
    "**Tip: Do you know what a sequence record looks like? Quickly learn about fasta sequence files from Appendix 1. Now try to see if the sequence file '18S_seqs.fas' matches your expectations. You already have the skills to do this without loading the whole file into memory, can you remember how? Check above if not.**\n",
    "\n",
    "In order to find out the number of sequences you could of course search for all the greater than `>` symbols, which is almost certainly the number of records. However, you should really search for all the lines *starting with* > rather than the number of times it occurs, as it is possible for a fasta header to contain an internal > . ‘Line starts with’ is represented by the `^` symbol. "
   ]
  },
  {
   "attachments": {},
   "cell_type": "markdown",
   "metadata": {},
   "source": [
    "Try to design a `grep` search to count the number of fasta header lines. Do not copy/paste from any web resource. Discuss your solution with your partner and/or demonstrator."
   ]
  },
  {
   "attachments": {},
   "cell_type": "markdown",
   "metadata": {},
   "source": [
    "----\n",
    "# Competency part B `grep` "
   ]
  },
  {
   "cell_type": "markdown",
   "metadata": {},
   "source": [
    "Use a `grep` search to count the number of fasta header lines in the two files `18S_seqs.fas` and  `C.09.F.fasta`. Ensure that the searches and output are below."
   ]
  },
  {
   "cell_type": "code",
   "execution_count": null,
   "metadata": {},
   "outputs": [],
   "source": []
  },
  {
   "cell_type": "code",
   "execution_count": null,
   "metadata": {},
   "outputs": [],
   "source": []
  },
  {
   "attachments": {},
   "cell_type": "markdown",
   "metadata": {},
   "source": [
    "End of competency"
   ]
  },
  {
   "attachments": {},
   "cell_type": "markdown",
   "metadata": {},
   "source": [
    "**Help in case of problems:** \n",
    "\n",
    "Have you remembered the quotation marks around the search phrase? (eg `'Fungi'`)\n",
    "\n",
    "Unfortunately if you haven't use quotes your solution may delete the data file! Why? Look at section 5 below and discuss. If you have deleted your file a spare file can be found in `/data/backup`. You only need to copy from /backup if you have deleted your file. Can you find a way from the command line to **copy** this file to your current directory? Google for a solution on how to copy a file at the unix command line. Try it, and list the files to see if you have been successful. Check with a demonstrator if you need."
   ]
  },
  {
   "attachments": {},
   "cell_type": "markdown",
   "metadata": {},
   "source": [
    "You may try your `grep` search again in a new cell below and still get the marks for completing this assessment. A correct `grep` for counting sequence records, and using it to search these two files will get you the marks"
   ]
  },
  {
   "cell_type": "code",
   "execution_count": null,
   "metadata": {},
   "outputs": [],
   "source": []
  },
  {
   "attachments": {},
   "cell_type": "markdown",
   "metadata": {},
   "source": [
    "<HR>"
   ]
  },
  {
   "cell_type": "markdown",
   "metadata": {},
   "source": [
    "## 3.3 Summary\n",
    "```\n",
    "head\tshow the first few lines of a file\n",
    "tail\tshow the last few lines of a file\n",
    "cat \tprint the whole file to the screen\n",
    "grep\tsearch, the -c flag counts the matches\n",
    "```"
   ]
  },
  {
   "cell_type": "markdown",
   "metadata": {},
   "source": [
    "## Quiz 2 (Googling is OK)\n",
    "How many lines does `head` display? How can that be changed? Show me\n",
    "\n",
    "Now write a `grep` search with the correct syntax to find \"Nematoda\" in `18S_seqs.fas`. How many times does it occur?\n",
    "\n",
    "Write a `grep` search to find the DNA sequence \"GCCATGCG\" in `18S_seqs.fas`. Why does it print out so much DNA sequence? How many times does GCCATGCG occur?"
   ]
  },
  {
   "attachments": {},
   "cell_type": "markdown",
   "metadata": {},
   "source": [
    "<HR>\n",
    "PAUSE HERE AND CHECK BEFORE GOING FURTHER\n",
    "<HR>"
   ]
  },
  {
   "cell_type": "markdown",
   "metadata": {},
   "source": [
    "# 4 Wildcards"
   ]
  },
  {
   "cell_type": "markdown",
   "metadata": {},
   "source": [
    "We have learned about displaying files and basic searches. Later you will create and move information into files. We need more detailed control however, not just displaying one named file, or all files, but instead the files we have specifically chosen. Wildcards allow us to select text and file names in a powerful and flexible way that makes life much easier."
   ]
  },
  {
   "cell_type": "markdown",
   "metadata": {},
   "source": [
    "## 4.1 What are wildcards?"
   ]
  },
  {
   "attachments": {},
   "cell_type": "markdown",
   "metadata": {},
   "source": [
    "Wildcards represent characters, and allow you to create a search term to select files or directories. \n",
    "\n",
    "They allow selections to be both very broad (by having a general matching criteria, eg all file names beginning with a letter) and very specific (by having very detailed matching criteria, eg all files with `f` as the second letter and a number between 1 and 5 at the end).\n",
    "\n",
    "**Here is the basic set of wildcards:**\n",
    "\n",
    "`*` - represents any character ocurring zero or more times (nothing or everything). eg `f*` represents the letter `f` followed by any number of characters whatever they are. So files `fez.txt`, `f1234.jpg` and `fibonacci.mpeg` would all match, as would a file just called `f`.\n",
    "\n",
    "`?` - represents any single character. eg `d?g` would match dog, dig, or d8g, but not doog\n",
    "\n",
    "`[ ]` - represents a specified range of single characters. eg `d[a-n]g` would match dag, dbg, dcg etc but not dog because the letter o is not in the set a-n\n",
    "\n",
    "The most useful for you today will be the star (*) wildcard. Like all wildcards * helps to create a pattern (series of characters) and that pattern is used by the program to define what it does."
   ]
  },
  {
   "cell_type": "markdown",
   "metadata": {},
   "source": [
    "## 4.2 Listing using wildcards"
   ]
  },
  {
   "cell_type": "markdown",
   "metadata": {},
   "source": [
    "Previously `ls` has been used to display all files in a directory, but now lets select only certain files. In the world of big data there may be thousands of files of different file types, or with different metadata included in the file name. Selecting only the files meeting certain criteria is very useful. Later you will learn how to use these selected files, and only those selected.\n",
    "\n",
    "`ls` lists the contents of the working directory\n",
    "\n",
    "`ls data` lists the contents of the data directory\n",
    "\n",
    "`ls data/my_sequences/sequence1.fas` will list the specified file (sequence1.fas)\n",
    "\n",
    "`ls data/my_sequences/*.fas` will list all files whose names are any number of any characters followed by “.fas”. So the files `sequence1.fas`, `shortseqs.fas`, `18S_seqs.fas`, but not `C.09.F.fasta` will match the pattern created by the * wildcard (*.fas)."
   ]
  },
  {
   "attachments": {},
   "cell_type": "markdown",
   "metadata": {},
   "source": [
    "Try this wildcard search for yourself"
   ]
  },
  {
   "cell_type": "code",
   "execution_count": null,
   "metadata": {},
   "outputs": [],
   "source": []
  },
  {
   "attachments": {},
   "cell_type": "markdown",
   "metadata": {},
   "source": [
    "If you are getting `No such file or directory` errors please check that you are in the main folder, above data"
   ]
  },
  {
   "attachments": {},
   "cell_type": "markdown",
   "metadata": {},
   "source": [
    "## Quiz 3\n",
    "With your partner write a command to list each of the following in any directory (you do not actually need these files to exist, just write a `ls` command to do the job):\n",
    "\n",
    "1. write a `ls` command to display all the .txt files \n",
    "2. write a `ls` command to display all the .jpeg files\n",
    "3. write a `ls` command to display all the files named 1234 whatever file extension they have (.jpeg, .txt, .fas)"
   ]
  },
  {
   "attachments": {},
   "cell_type": "markdown",
   "metadata": {},
   "source": [
    "4. How would you list only the fasta files beginning with “sequence” and not “Dave” or anything else? As a complication, one user has put sequence files with a `.fas` suffix, another with `.fasta`, and a third with `.fa`. This is bad naming practice, but we need all the fasta files. What wildcard command would list them out? Discuss this with a demonstrator\n",
    "----"
   ]
  },
  {
   "cell_type": "markdown",
   "metadata": {},
   "source": [
    "## 4.3 unix commands are case sensitive "
   ]
  },
  {
   "cell_type": "markdown",
   "metadata": {},
   "source": [
    "Most commands at the terminal are case sensitive, so `ls Dave.*` and `ls dave.*` will produce different results. \n",
    "This is a common error you should watch out for. There are ways to make commands **case insensitive** (so `Dave.fas` and `dave.fas` are treated the same) but it is not the default behaviour of command line programs."
   ]
  },
  {
   "attachments": {},
   "cell_type": "markdown",
   "metadata": {},
   "source": [
    "## 4.4 file filtering and copying"
   ]
  },
  {
   "attachments": {},
   "cell_type": "markdown",
   "metadata": {},
   "source": [
    "Your wildcard skills can be deployed in lots of situations, they are not specific to `ls`\n",
    "\n",
    "It is actually the underlying bash kernel (the program that runs the command line terminal) that does the hard work. It translates your wildcard pattern (`sequence*.fas`) into a list of files that match (eg `sequence1.fas` ... `sequence100.fas`) and feeds those to the `ls` program. \n",
    "\n",
    "The good news is that it does this for every program not just `ls` so your new wildcard skills can be used anywhere. Next you will use these skills to select files (based on the metadata in their filenames) and copy them to a new location."
   ]
  },
  {
   "attachments": {},
   "cell_type": "markdown",
   "metadata": {},
   "source": [
    "The command to copy a file is `cp`. Google it if you need. You can use `cp` in the same way as you used `ls`, incorporating wildcards to copy only certain files just as you have been doing already.\n",
    "\n",
    "Copy commands are structured like this (just an example, don't copy and paste it):\n",
    "\n",
    "`cp directory1/selected_files directory2/`\n",
    "\n",
    "You will have to supply three terms and assemble them correctly:\n",
    "1. \"directory1\" refers to where the files are\n",
    "2. \"directory2\" refers to where you will copy them\n",
    "3. “selected_files” term is your wildcard search for fasta files containing \"sequence\". You probably already wrote something similar above (Quiz 3.4).\n"
   ]
  },
  {
   "attachments": {},
   "cell_type": "markdown",
   "metadata": {},
   "source": [
    "**Copy all the fasta files in the `data/sequences` directory that contain the word “sequence” and copy them to the `data/seqs_filtered` directory**"
   ]
  },
  {
   "attachments": {},
   "cell_type": "markdown",
   "metadata": {},
   "source": [
    "Check what files are present in this directory before and after the copy. Have you copied what you intended? If not a demonstrator can help you to delete the files, and you can try again."
   ]
  },
  {
   "cell_type": "code",
   "execution_count": null,
   "metadata": {},
   "outputs": [],
   "source": []
  },
  {
   "cell_type": "code",
   "execution_count": null,
   "metadata": {},
   "outputs": [],
   "source": []
  },
  {
   "cell_type": "markdown",
   "metadata": {},
   "source": [
    "----"
   ]
  },
  {
   "cell_type": "markdown",
   "metadata": {},
   "source": [
    "## 4.5 Wildcards, optional extras "
   ]
  },
  {
   "attachments": {},
   "cell_type": "markdown",
   "metadata": {},
   "source": [
    "**This section can be skipped over if you are pushed for time** just go to section 5, but it provides details of other types of wildcard beyond the asterisk `*`. These are higher level skills. The more complex your search, the more you will have to use a full range of wildcards. You can read and see examples by Googling unix wildcards\n",
    "\n",
    "### 4.5.1 the `?` wildcard\n",
    "As a brief example let's introduce the `?` wildcard. \n",
    "\n",
    "`ls ?i*`\n",
    "\n",
    "In this example we are looking for each file whose second letter is “i” because our term translates as “list filenames with any single character, followed by the letter ‘i’, followed by any number of characters”. As you can guess, the pattern can be built up using several wildcards.\n",
    "\n",
    "How would you find  every file with a three letter extension? \n",
    "\n",
    "`ls *.???`\n",
    "\n",
    "This is “any number of characters, followed by a dot, followed by 3 single characters but not more or less”"
   ]
  },
  {
   "attachments": {},
   "cell_type": "markdown",
   "metadata": {},
   "source": [
    "### 4.5.2 the range operator (`[ ]`) wildcard\n",
    "The range operator (`[ ]`), unlike the previous 2 wildcards which specified any character, allows you to limit to a subset of characters. \n",
    "\n",
    "In this example we are looking for every file whose name either begins with an s or v.\n",
    "\n",
    "`ls [sv]*`\n",
    "\n",
    "And here any .fas file beginning with an s or d\n",
    "\n",
    "`ls data/[sd]*.fas`\n",
    "\n",
    "With ranges we may also include a set by using a hyphen. So for example if we wanted to find every file whose name includes a digit we could do the following:\n",
    "\n",
    "`ls *[0-9]*`\n",
    "\n",
    "To find all the numerically labelled fasta files (sequence1.fas, sequence100.fas) in our directory we could try this:\n",
    "\n",
    "`ls seq*[0-9].fas`"
   ]
  },
  {
   "cell_type": "markdown",
   "metadata": {},
   "source": [
    "## Summary\n",
    "```\n",
    "ls\tlist contents of the directory\n",
    "cp\tcopy\n",
    "*\twildcard, stands for 'any characters'\n",
    "?\twildcard, stands for a 'single character'\n",
    "[]\twildcard, specifies a range of characters\n",
    "```\n"
   ]
  },
  {
   "attachments": {},
   "cell_type": "markdown",
   "metadata": {},
   "source": [
    "<HR>\n",
    "PAUSE HERE AND CHECK BEFORE GOING FURTHER\n",
    "<HR>"
   ]
  },
  {
   "cell_type": "markdown",
   "metadata": {},
   "source": [
    "# 5 Search, replace, and write output to a new file"
   ]
  },
  {
   "cell_type": "markdown",
   "metadata": {},
   "source": [
    "`grep` is an excellent tool for undertaking simple yet fast searches within text files. But to search and replace within a text file, or to redirect changes to a new file, we will need to use either `sed` or a simple script (OK there are actually numerous ways of doing this utilizing other tools and python scripts but this manual will only deal with simple examples with `sed`). First though we will write text using `echo` and learn about routing data to the right location with `>` `>>` and `<`."
   ]
  },
  {
   "attachments": {},
   "cell_type": "markdown",
   "metadata": {},
   "source": [
    "## 5.1 `echo` to write data"
   ]
  },
  {
   "cell_type": "markdown",
   "metadata": {},
   "source": [
    "A useful way to write to a text file is with `echo`. This will print to the screen or a file. \n",
    "Try these commands\n",
    "```\n",
    "$ echo Hello world!\n",
    "$ echo Hello world! > greeting.txt\n",
    "```"
   ]
  },
  {
   "cell_type": "code",
   "execution_count": null,
   "metadata": {},
   "outputs": [],
   "source": [
    "echo Hello world! > greeting.txt"
   ]
  },
  {
   "attachments": {},
   "cell_type": "markdown",
   "metadata": {},
   "source": [
    "It may not seem like this second command has done anything, but it has. You have used the `>` to route the output to a file (`greeting.txt`) rather than to the screen."
   ]
  },
  {
   "cell_type": "markdown",
   "metadata": {},
   "source": [
    "## 5.2 routing, determine where your data goes"
   ]
  },
  {
   "attachments": {},
   "cell_type": "markdown",
   "metadata": {},
   "source": [
    "If the file `greeting.txt` does not exist it will be created. We have routed the information to a location (the file) with the greater than (`>`) symbol. If the file does exist it will be overwritten. Keep this in mind when dealing with important data, the `>` will overwrite all previous data in the file."
   ]
  },
  {
   "attachments": {},
   "cell_type": "markdown",
   "metadata": {},
   "source": [
    "\n",
    "Check the file now exists (how?), then you can use one of the commands above (`cat` maybe? Do you remember the others?) to inspect the file you have just created. "
   ]
  },
  {
   "cell_type": "code",
   "execution_count": null,
   "metadata": {},
   "outputs": [],
   "source": []
  },
  {
   "attachments": {},
   "cell_type": "markdown",
   "metadata": {},
   "source": [
    "\n",
    "If you wish to **append** text to a file rather than **replace** it you can use the `>>` symbol:\n",
    "\n",
    "`echo ‘Hello again world!’ >> greeting.txt`\n",
    "\n",
    "Try this and check your success. "
   ]
  },
  {
   "cell_type": "code",
   "execution_count": null,
   "metadata": {},
   "outputs": [],
   "source": []
  },
  {
   "attachments": {},
   "cell_type": "markdown",
   "metadata": {},
   "source": [
    "**Routing syntax** (`>`, `>>`) is general to UNIX and can be used with other programs too. Imagine that you need to add an extra fasta sequence to the end of a big sequence file, the append symbol `>>` will be helpful. In reality you would want to take your new text from a file rather than typing it it. We have similar examples in the `sed` section below where the source file is specified using a less than (`<`) symbol. "
   ]
  },
  {
   "cell_type": "markdown",
   "metadata": {},
   "source": [
    "----"
   ]
  },
  {
   "cell_type": "markdown",
   "metadata": {},
   "source": [
    "## Quiz 3 Concatenation"
   ]
  },
  {
   "cell_type": "markdown",
   "metadata": {},
   "source": [
    "**Background thought experiment, discuss**\n",
    "\n",
    "Describe to your partner how, using MS Word, you would open a directory of 3 fasta files and copy the contents of each file into a new \"all_seqs.fas\" file and estimate how quickly you could do this.\n",
    "\n",
    "Now describe how you would do that in Word with 3000 fasta files, or 3,000,000 files and estimate how long it would take. At the command line these solutions (3; 3,000; 3,000,000) are identical and the same amount of work for you! \n",
    "\n",
    "A common bioinformatics task is to **concatenate** a lot of individual sequence files into one single file as described above. This is very time consuming to do in a GUI if you have more than a couple of files to open, copy, close, open, paste. The task at the command line however scales easily to almost any number of files. \n",
    "\n",
    "**Now come up with a solution**\n",
    "\n",
    "You already have all the skills to do this if you learned about wildcards and routing before. Don't worry if not, discuss it and ask for help. It is most important that you know that the command line *scales*. Your cammand that you write here will be *exactly* the same if you concatenate 3 or 3,000,000 fasta files. If you can work out how to do this, and get the syntax correct, show a demonstrator or myself.\n",
    "\n",
    "**Try these 3 tasks:**\n",
    "\n",
    "Go to the `fasta-to-combine` directory. \n",
    "\n",
    "Concatenate all 10 sequence files into a new file with an informative name. \n",
    "\n",
    "Can you do the same excluding the contents of the README.md file? Demonstrate your success (show me) by inserting cells below"
   ]
  },
  {
   "attachments": {},
   "cell_type": "markdown",
   "metadata": {},
   "source": [
    "<HR>\n",
    "\n",
    "**The next sections below, and section 6, are starting to build really powerful and useful bioinformatics skills to manipulate data. Don't get overwhelmed trying to remember alll the syntax, you can just scroll back to look it up, or google it. Instead for each section try to think of real-world uses- \"I've just collected a lot of data in a lot of files, how could this help me to wrangle it?\"**\n",
    "\n",
    "**If you need it take a break, or chat to one of us about the work, but don't just skip ahead**\n",
    "\n",
    "<HR>"
   ]
  },
  {
   "attachments": {},
   "cell_type": "markdown",
   "metadata": {},
   "source": [
    "## 5.3 (Optional) stucturing data files with `echo`"
   ]
  },
  {
   "attachments": {},
   "cell_type": "markdown",
   "metadata": {},
   "source": [
    "`echo` also allows us to format files correctly. If we need newlines or tabs inserted we can do this by using the `-e` flag. The tab symbol is `\\t` and newline `\\n`. \n",
    "\n",
    "Can you use these to better format the file \"greeting.txt\" that you created before in the \"routing, determine where your data goes\" section above?\n",
    "\n",
    "Try to imagine what the following command will write, maybe sketch it out & discuss with others:\n",
    "\n",
    "`echo -e “column1\\tcolumn2\\nRNA\\tDNA” > rna-dna-columns.txt`"
   ]
  },
  {
   "attachments": {},
   "cell_type": "markdown",
   "metadata": {},
   "source": [
    "Give it a go and check what has been written. These commands are useful when writing a lot of data to a file programmatically, and when format is important, which is a very common situation for bioinformatics work."
   ]
  },
  {
   "cell_type": "code",
   "execution_count": null,
   "metadata": {},
   "outputs": [],
   "source": []
  },
  {
   "attachments": {},
   "cell_type": "markdown",
   "metadata": {},
   "source": [
    "#### `echo` and file names\n",
    "\n",
    "Something that is often useful when working with lots of files, as bioinformaticians do, is to know that `echo` can write file information like file names\n",
    "\n",
    "`echo *.fas > fasta-file-names.txt`\n",
    "\n",
    "This would write the name of every file in the current directory with a `.fas` extension to a file called `fasta-file-names.txt`.\n",
    "\n",
    "This could be very useful when you need process lots of information about output file, perhaps when the file names contain information like sample location, or organism, or date. Although I am talking only about bioinformatics today, big data is everywhere in biology. You can manipulate files of any type of data using your new skills."
   ]
  },
  {
   "cell_type": "markdown",
   "metadata": {},
   "source": [
    "## 5.4 `sed`, the stream editor"
   ]
  },
  {
   "attachments": {},
   "cell_type": "markdown",
   "metadata": {},
   "source": [
    "`sed` works best when we need to deal with files as single lines, or rows of text data. Since `sed` doesn’t try to take the whole file into memory, instead dealing with a line at a time, it has real advantages when files are enormous- as they often are for sequence data.\n",
    "To search for and replace `Fungi` with `Fungus` in our `18S_seqs.fas` file we could do the following:\n",
    "\n",
    "`sed 's/Fungi/Fungus/' < 18S_seqs.fas > fungi-to-fungus.fas`\n",
    "\n",
    "This will replace the single word Fungi with the word Fungus, but output these changes to the file `fungi-to-fungus.fas`, leaving the original file unchanged. It is always good practice to leave the original data unchanged when modifying it."
   ]
  },
  {
   "attachments": {},
   "cell_type": "markdown",
   "metadata": {},
   "source": [
    "The `s` within the single quotes signifies this is a substitution command and the `/` characters are delimiters that separate the text to search for, and the text to replace it with. \n",
    "\n",
    "In UNIX based systems the `<` signifies an input, so we are taking input from our `18S_seqs.fas` file and outputting (`>`) to `fungi-to-fungus.fas`"
   ]
  },
  {
   "attachments": {},
   "cell_type": "markdown",
   "metadata": {},
   "source": [
    "## Summary\n",
    "```\n",
    "echo\twrite to a file\n",
    "sed\tsearch and replace\n",
    "<\ttake input from named file\n",
    ">\tdirect output to named file, replacing\n",
    ">>\tdirect output to named file, appending\n",
    "*\twildcard, stands for 'any characters'\n",
    "```\n",
    "\n",
    "Test yourselves. In pairs ask each other to explain what items from the list above do. Each of you ask the other to come up with a (not too difficult) command line using one or two of them."
   ]
  },
  {
   "cell_type": "markdown",
   "metadata": {},
   "source": [
    "----\n"
   ]
  },
  {
   "cell_type": "markdown",
   "metadata": {},
   "source": [
    "# 6 Sorting and filtering lists"
   ]
  },
  {
   "cell_type": "markdown",
   "metadata": {},
   "source": [
    "Not all files of data are convenient to look at. Sometimes there is too much data and it is not structured for the human brain. In these cases it is very useful to filter, sort, count the instances of each record, and write bespoke lists."
   ]
  },
  {
   "cell_type": "markdown",
   "metadata": {},
   "source": [
    "You have already learned some filtering by searching for key phrases with `grep`, using wildcards, and routing data to new files. You are now going to learn to sort and combine identical records and count them."
   ]
  },
  {
   "cell_type": "markdown",
   "metadata": {},
   "source": [
    "## 6.1 counting characters, words, and lines"
   ]
  },
  {
   "cell_type": "markdown",
   "metadata": {},
   "source": [
    "unix has a word count program called `wc`\n",
    "\n",
    "There are many ways to use this but useful options are:\n",
    "```\n",
    "-m count the number of characters\n",
    "-w count the number of words\n",
    "-l count the number of lines\n",
    "\n",
    "```\n",
    "\n",
    "\n",
    "Of course wc, like other programs because more powerful when part of a workflow linked by pipes |. Can you determine what this cammand would do?\n",
    "\n",
    "`cat *.csv | wc -l`"
   ]
  },
  {
   "cell_type": "markdown",
   "metadata": {},
   "source": [
    "Try to word count the number of lines in some files in `data/my_sequences`"
   ]
  },
  {
   "cell_type": "markdown",
   "metadata": {},
   "source": [
    "## 6.2 sort uniq"
   ]
  },
  {
   "cell_type": "markdown",
   "metadata": {},
   "source": [
    "The `sort` command rearranges the lines of a file into alphabetical and numerical order, which can be very useful. "
   ]
  },
  {
   "attachments": {},
   "cell_type": "markdown",
   "metadata": {},
   "source": [
    "The `uniq` command is a way of filtering out repeated lines in a file. It operates by comparing adjacent lines and determining if they are the same. This strategy requires the file to be sorted first, so `sort` and `uniq` are often employed together. The output of `uniq` are the non-redundant (ie unique, occuring once) lines of a file."
   ]
  },
  {
   "attachments": {},
   "cell_type": "markdown",
   "metadata": {},
   "source": [
    "`uniq` can report the number of times a line occurred by using the `-c` flag. It prepends the number of occurrances to the line. We could do something like this:\n",
    "```\n",
    "sort file.txt\n",
    "uniq -c file.txt\n",
    "head -4 file.txt\n",
    "\n",
    "7 apples\n",
    "2 bananas\n",
    "1 cherries\n",
    "1 durian\n",
    "```"
   ]
  },
  {
   "cell_type": "markdown",
   "metadata": {},
   "source": [
    "It might be better however to link the commands together with pipes, each action passing its results to the next. Doing so would reduce typing and errors."
   ]
  },
  {
   "attachments": {},
   "cell_type": "markdown",
   "metadata": {},
   "source": [
    "Try to sort and count the fruit in `data/fruit.txt` using pipes and no pipes. Next display the top three Next write the top three to a `fruit_top3.txt` file using the greater than symbol."
   ]
  },
  {
   "cell_type": "code",
   "execution_count": null,
   "metadata": {},
   "outputs": [],
   "source": []
  },
  {
   "attachments": {},
   "cell_type": "markdown",
   "metadata": {},
   "source": [
    "## Summary\n",
    "```\n",
    "wc\tword count, `-m` characters, `-w` words, `-l` lines\n",
    "sort\trearrange into alphabetical or numerical order\n",
    "uniq\tremove duplicate lines\n",
    "|\tpipe, used to chain together commands (see below)\n",
    "```"
   ]
  },
  {
   "attachments": {},
   "cell_type": "markdown",
   "metadata": {},
   "source": [
    "<HR>\n",
    "PAUSE HERE AND CHECK BEFORE GOING FURTHER\n",
    "<HR>"
   ]
  },
  {
   "attachments": {},
   "cell_type": "markdown",
   "metadata": {},
   "source": [
    "# Competency part C: cancer associated gene lists"
   ]
  },
  {
   "attachments": {},
   "cell_type": "markdown",
   "metadata": {},
   "source": [
    "This final piece of work is by far the most challenging. Remember though, that everything I am asking you to do you have pretty much already just done above in section 6. You may discuss and exchange ideas with others in the class. Google it if you wish! But you must learn enough to carry it out yourself. Do not give up, this sounds harder than it is, you have made great progress up until here!\n",
    "\n",
    "Unlike the other competencies this is a complete section and you must do all 5 parts in bold labeled C3.1 - C3.5"
   ]
  },
  {
   "cell_type": "markdown",
   "metadata": {},
   "source": [
    "## Differential expression of genes in cancer tissue"
   ]
  },
  {
   "cell_type": "markdown",
   "metadata": {},
   "source": [
    "Dr Smith is studying which genes are overexpressed in different cancers. She designs a small pilot project before launching into her main research in order to get candidate genes that she will focus on later. \n",
    "1. take cancerous tissues samples from both lung and heart\n",
    "2. convert mRNA to cDNA and sequence\n",
    "3. identify the gene name for each DNA sequence\n",
    "4. organise the gene name data into heart and lung collections\n",
    "5. count and compare the unique gene names in both tissues\n",
    "\n",
    "Steps 1-3 have been completed for you. It is now time for the bioinformaticians to get to work. You will now carry out steps 4 and 5 by completing the whole of this section."
   ]
  },
  {
   "cell_type": "markdown",
   "metadata": {},
   "source": [
    "## Analysis"
   ]
  },
  {
   "attachments": {},
   "cell_type": "markdown",
   "metadata": {},
   "source": [
    "You have been provided with a file called `data/genes/genelist.txt`. This contains the name of each gene found, with a suffix indicating in what tissue the mRNA originated. \n",
    "\n",
    "**C3.1 Examine the list using your file-reading skills**"
   ]
  },
  {
   "cell_type": "code",
   "execution_count": null,
   "metadata": {},
   "outputs": [],
   "source": []
  },
  {
   "attachments": {},
   "cell_type": "markdown",
   "metadata": {},
   "source": [
    "**C3.2 determine how many records it contains**"
   ]
  },
  {
   "cell_type": "code",
   "execution_count": null,
   "metadata": {},
   "outputs": [],
   "source": []
  },
  {
   "cell_type": "markdown",
   "metadata": {},
   "source": [
    "## Organising the data into files"
   ]
  },
  {
   "cell_type": "markdown",
   "metadata": {},
   "source": [
    "You will need to separate the two classes of records (heart, lung) into two separate files in order to work with them easily. You have previously done something similar with `grep`. You should use carefully chosen file names so that it is clear what is in each. A common error would be to analyse the wrong file because it has a similar name."
   ]
  },
  {
   "attachments": {},
   "cell_type": "markdown",
   "metadata": {},
   "source": [
    "**C3.3 Create and run a search term to separate the two types of gene names and write them into separate well-named files**"
   ]
  },
  {
   "cell_type": "code",
   "execution_count": null,
   "metadata": {},
   "outputs": [],
   "source": []
  },
  {
   "cell_type": "markdown",
   "metadata": {},
   "source": [
    "You should check both files to confirm there is only one type of tisue data, and count the number of records in each as you did before"
   ]
  },
  {
   "cell_type": "code",
   "execution_count": null,
   "metadata": {},
   "outputs": [],
   "source": []
  },
  {
   "cell_type": "code",
   "execution_count": null,
   "metadata": {},
   "outputs": [],
   "source": []
  },
  {
   "cell_type": "markdown",
   "metadata": {},
   "source": [
    "## Sorting and counting gene names"
   ]
  },
  {
   "cell_type": "markdown",
   "metadata": {},
   "source": [
    "For each file you are are first going to determine the number of times each gene name occurs. That is how many unique records exist. You have already combined `sort` and `uniq`. You should remember how to write data to a file, and have used this with several programs already. A challenging aspect here are determining how many times you will need to sort. Also (although its not necessary if you have a good plan) many people will want to have the most frequently expressed genes at the top of the file. You may need to look up `sort` flags to do this. "
   ]
  },
  {
   "attachments": {},
   "cell_type": "markdown",
   "metadata": {},
   "source": [
    "**C3.4 create two files (ie both heart and lung), each containing a sorted list of all the unique gene names, with the gene-name frequency counts next to them**"
   ]
  },
  {
   "cell_type": "code",
   "execution_count": null,
   "metadata": {},
   "outputs": [],
   "source": []
  },
  {
   "attachments": {},
   "cell_type": "markdown",
   "metadata": {},
   "source": [
    "**C3.5 Write the lines containing the most frequent 5 gene names from each tissue to a file**"
   ]
  },
  {
   "cell_type": "code",
   "execution_count": null,
   "metadata": {},
   "outputs": [],
   "source": []
  },
  {
   "cell_type": "markdown",
   "metadata": {},
   "source": [
    "You have almost finishd, well done, please ask a demonstrator for a high five.\n",
    "\n",
    "Now you can upload a PDF of this workbook to complete your assessment. Read section 7 below."
   ]
  },
  {
   "cell_type": "markdown",
   "metadata": {},
   "source": [
    "----\n",
    "\n",
    "# THIS IS REALLY IMPORTANT DON'T SKIP SECTION 7\n",
    "\n",
    "----\n"
   ]
  },
  {
   "attachments": {},
   "cell_type": "markdown",
   "metadata": {},
   "source": [
    "## 7. Uploading your competency work"
   ]
  },
  {
   "attachments": {},
   "cell_type": "markdown",
   "metadata": {},
   "source": [
    "**You must save and upload your practical notebook as a PDF**\n",
    "\n",
    "1. Check your name and student ID are in the cell at the top of this notebook. \n",
    "2. Use the internet browser menu to `print as PDF`\n",
    "3. Save this PDF somewhere safe. You should rename it informatively (Bloggs_unixprac.pdf, 978675_commandline.pdf). \n",
    "4. Validate your work. Check how many pages it has and **if it is >20 pages you have done something wrong, probably by using `cat` on a very large file**. Do not submit, go back and have another try. Now upload it to the Canvas assignment for \"Week C unix competency\""
   ]
  },
  {
   "cell_type": "markdown",
   "metadata": {},
   "source": [
    "# YOU ARE NOW COMPLETELY FINISHED, WELL DONE"
   ]
  },
  {
   "attachments": {},
   "cell_type": "markdown",
   "metadata": {},
   "source": [
    "You have achieved A LOT today. The skills you have learned are very valuable in biology and any area of science. Remember you don't have to have memorised all this, you can look up the syntax whenever you need it. In bioinformatics its not cheating to look things up (or Google it) whenever you need to use them, its encouraged.\n",
    "\n",
    "What I do want you to take away are:\n",
    "\n",
    "1. a knowledge of the sorts of things you know how to do: search by criteria, list, count, sort, find uniques, and write to files. I would like you to recognise problems you can solve, and feel confident to write or loook up the syntax to solve them.\n",
    "2. know that all your skills scale: a single command that searched, sorted, and counted unique data in 1 file will do the same in 1000 files just by changing the input term. I would like you to feel confident that big data is something you can deal with.\n",
    "\n",
    "You can now check with someone and go."
   ]
  },
  {
   "cell_type": "markdown",
   "metadata": {},
   "source": [
    "----\n",
    "\n",
    "# Appendix 1 the fasta file format\n",
    "Fasta (pronounced “fast- ay” to rhyme with May) is a concise standard text file format used for sequence data. A fasta file may contain one or many separate sequence records, each in fasta format. You will need to use this format several times during today’s session. Both DNA and amino acid sequences can be formatted this way. Essentially it is a greater than symbol “>” followed by any title you want to give it, then, starting on the next line, the sequence.\n",
    "\n",
    "### Here is the description of FASTA from GenBank.\n",
    "“A sequence in FASTA format begins with a single-line description, followed by lines of sequence data. The description line is distinguished from the sequence data by a greater-than (\">\") symbol in the first column”\n",
    "\n",
    "Example sequences in FASTA format are: \n",
    "```\n",
    ">AAH22472.1 Malic enzyme 3, NADP(+)-dependent, mitochondrial [Homo sapiens]\n",
    "MGAALGTGTRLAPWPGRACGALPRWTPTAPAQGCHSKPGPARPVPLKKRGYDVTRNPHLNKGMAFTLEER\n",
    "LQLGIHGLIPPCFLGQDVQLLRIMGYYERQQSDLDKYIILMTLQDRNEKLFYRVLTSDVEKFMPIVYTPT\n",
    "VGLACQHYGLTFRRPRGLFITIHDKGHLATMLNSWPEDNIKAVVVTDGERILGLGDLGCYGMGIPVGKLA\n",
    "LYTACGGVNPQQCLPVLLDVGTNNEELLRDPLYIGLKHQRVHGKAYDDLLDEFMQAVTDKFGINCLIQFE\n",
    "\n",
    ">My sequence\n",
    "CCGGGCTCTGCCTCGATGCAAACGTTATGCATATATGTATTATCACCATTATTTTATATCAAACATATCC\n",
    "TATATATTAATACATCTCATTTAACAGAAATATAGGTAGATATACCACATATTTGTCAACAACATTTTAA\n",
    "CTAAGGGGTACATAAACCATAACTAAGTACTCTCCAATAAATATTTATTAATTACTGAACGATAGTTTAA\n",
    "GACCGATCACAACTCTCACTGGTTAAGATATACCAAGTACCCACCATCCTATTTACCTCCCTTATTTAAT\n",
    "GTAGTAAGAGCCCACCATCAGTTGATTTCTTAATGTTAACGGTTCTTGAAGGTCAAGGACAAATATTCGT\n",
    "GGGGGTTTCACTTAGTGAACTATTCCTGGCATCTGGTTCCTATTTCAGGTCCAATAATTGTTATAATTCC\n",
    "CCATACTTTCATCGACGCTTGCATAAGTTAATGGTGGTAATACATACTCCTCGTTACCCACCATGCCGGG\n",
    "CGTTCTTTCCAGCGTGTGGGGGGTTCTCTTTTTTTTTNNCCTTTCA\n",
    "```\n",
    "### Fasta format records and fasta files\n",
    "Above are two fasta records. A fasta record contains only a single header with a single sequence. It is one thing. The record is in fasta format because it is a greater than symbol, then a header, then the sequence.\n",
    "\n",
    "A fasta file is a text file. It usually has the extension .fas or .fsa or .fna or .fasta. Each text file may contain one or more than one fasta record. It is not uncommon to have tens of thousands of fasta records in a single text file. For it to count as a fasta file all the records must be in valid fasta format."
   ]
  },
  {
   "cell_type": "markdown",
   "metadata": {},
   "source": [
    "## Appendix 2\n",
    "### Some reading if you wish to extend your knowledge\n",
    "- UNIX Tutorial for Beginners http://www.ee.surrey.ac.uk/Teaching/Unix/\n",
    "- Command line history tricks http://www.thegeekstuff.com/2008/08/15-examples-to-master-linux-command-line-history/\n",
    "- Software Carpentry Introduction to the unix shell on YouTube (great short videos) \n",
    "- Unix and Perl Primer for Biologists http://korflab.ucdavis.edu/Unix_and_Perl/unix_and_perl_v3.0.pdf\n",
    "- Bradnam and Korf. (2012) UNIX and Perl to the Rescue!: A Field Guide for the Life Sciences (and Other Data-rich Pursuits). ISBN-10: 0521169828  ISBN-13: 978-0521169820 http://www.amazon.co.uk/gp/product/0521169828\n",
    "- GREP http://www.gnu.org/software/grep/manual/grep.html\n",
    "- SED http://www.gnu.org/software/sed/manual/sed.html\n",
    "- Software Carpentry Introduction to programming in Python (great short YouTube videos) \n",
    "- Python for Biologists http://pythonforbiologists.com\n",
    "- Python for non-programmers https://wiki.python.org/moin/BeginnersGuide/NonProgrammers"
   ]
  },
  {
   "cell_type": "code",
   "execution_count": null,
   "metadata": {},
   "outputs": [],
   "source": []
  }
 ],
 "metadata": {
  "kernelspec": {
   "display_name": "Python 3",
   "language": "python",
   "name": "python3"
  },
  "language_info": {
   "codemirror_mode": {
    "name": "ipython",
    "version": 3
   },
   "file_extension": ".py",
   "mimetype": "text/x-python",
   "name": "python",
   "nbconvert_exporter": "python",
   "pygments_lexer": "ipython3",
   "version": "3.6.7"
  }
 },
 "nbformat": 4,
 "nbformat_minor": 2
}